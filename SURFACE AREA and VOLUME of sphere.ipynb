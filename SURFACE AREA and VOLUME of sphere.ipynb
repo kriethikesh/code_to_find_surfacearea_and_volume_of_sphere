{
  "nbformat": 4,
  "nbformat_minor": 0,
  "metadata": {
    "colab": {
      "provenance": []
    },
    "kernelspec": {
      "name": "python3",
      "display_name": "Python 3"
    },
    "language_info": {
      "name": "python"
    }
  },
  "cells": [
    {
      "cell_type": "code",
      "execution_count": 1,
      "metadata": {
        "id": "3_zp7umCA5jb"
      },
      "outputs": [],
      "source": [
        "#code to find SURFACE AREA and VOLUME of sphere"
      ]
    },
    {
      "cell_type": "code",
      "source": [
        "def measurements_of_sphere():\n",
        "  r=int(input(\"enter the radius\"))\n",
        "  pi=3.142\n",
        "  print(\"surface_area =\", 4*pi*r**2)\n",
        "  print(\"volume =\", 4/3*pi*r**3) "
      ],
      "metadata": {
        "id": "Qt8MvNe_BE08"
      },
      "execution_count": 12,
      "outputs": []
    },
    {
      "cell_type": "code",
      "source": [
        "measurements_of_sphere()"
      ],
      "metadata": {
        "colab": {
          "base_uri": "https://localhost:8080/"
        },
        "id": "sVOiBunkCE4p",
        "outputId": "88c02161-85f1-4f48-b7b3-6623cd871699"
      },
      "execution_count": 14,
      "outputs": [
        {
          "output_type": "stream",
          "name": "stdout",
          "text": [
            "enter the radius7\n",
            "surface_area = 615.832\n",
            "volume = 1436.9413333333332\n"
          ]
        }
      ]
    },
    {
      "cell_type": "code",
      "source": [
        "measurements_of_sphere()"
      ],
      "metadata": {
        "colab": {
          "base_uri": "https://localhost:8080/"
        },
        "id": "4O5hmexqC71Y",
        "outputId": "3cd62006-94dc-48ce-c60f-0b357415d12d"
      },
      "execution_count": 13,
      "outputs": [
        {
          "output_type": "stream",
          "name": "stdout",
          "text": [
            "enter the radius49\n",
            "surface_area = 30175.768\n",
            "volume = 492870.8773333333\n"
          ]
        }
      ]
    }
  ]
}